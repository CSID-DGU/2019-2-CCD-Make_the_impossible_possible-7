{
 "cells": [
  {
   "cell_type": "code",
   "execution_count": null,
   "metadata": {},
   "outputs": [],
   "source": [
    "memory{}\n",
    "\n",
    "    previous =memory.copy()\n",
    "    memory = {}\n",
    "    for track in tracks:\n",
    "\t\tboxes.append([track[0], track[1], track[2], track[3]])\n",
    "\t\tindexIDs.append(int(track[4]))\n",
    "\t\tmemory[indexIDs[-1]] = boxes[-1]\n",
    "\n",
    "            if indexIDs[i] in previous:\n",
    "\t\t\t\tprevious_box = previous[indexIDs[i]]\n",
    "\t\t\t\t(x2, y2) = (int(previous_box[0]), int(previous_box[1]))\n",
    "\t\t\t\t(w2, h2) = (int(previous_box[2]), int(previous_box[3]))\n",
    "\t\t\t\tp0 = (int(x + (w-x)/2), int(y + (h-y)/2))\n",
    "\t\t\t\tp1 = (int(x2 + (w2-x2)/2), int(y2 + (h2-y2)/2))\n",
    "\t\t\t\tcv2.line(frame, p0, p1, color, 3)\n",
    "\n",
    "\t\t\t\tif intersect(p0, p1, line[0], line[1]):\n",
    "\t\t\t\t\tcounter += 1\n",
    "\n",
    "\t\t\t# text = \"{}: {:.4f}\".format(LABELS[classIDs[i]], confidences[i])\n",
    "\t\t\ttext = \"{}\".format(indexIDs[i])\n"
   ]
  }
 ],
 "metadata": {
  "kernelspec": {
   "display_name": "Python 3",
   "language": "python",
   "name": "python3"
  },
  "language_info": {
   "codemirror_mode": {
    "name": "ipython",
    "version": 3
   },
   "file_extension": ".py",
   "mimetype": "text/x-python",
   "name": "python",
   "nbconvert_exporter": "python",
   "pygments_lexer": "ipython3",
   "version": "3.6.5"
  }
 },
 "nbformat": 4,
 "nbformat_minor": 2
}
